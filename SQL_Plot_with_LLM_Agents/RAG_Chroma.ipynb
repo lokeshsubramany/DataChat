{
 "cells": [
  {
   "cell_type": "code",
   "execution_count": 1,
   "metadata": {},
   "outputs": [],
   "source": [
    "from langchain_openai import OpenAIEmbeddings\n",
    "import chromadb\n",
    "\n",
    "def load_document(file): \n",
    "\timport os \n",
    "\tname, extension = os.path.splitext(file) \n",
    "\t \n",
    "\tif extension == '.pdf':\n",
    "\t\tfrom langchain.document_loaders import PyPDFLoader\n",
    "\t\tprint(f'Loading {file}')\n",
    "\t\tloader = PyPDFLoader(file) \t\n",
    "\telif extension == '.txt':\n",
    "\t\tfrom langchain.document_loaders import TextLoader\n",
    "\t\tloader = TextLoader(file) \n",
    "\telse:\n",
    "\t\tprint('Document format is not supported!')\n",
    "\t\treturn None \n",
    " \n",
    "\tdata = loader.load() \n",
    "\treturn data\n",
    "\n",
    "def chunk_data(data, chunk_size=512, chunk_overlap=0):\n",
    "    from langchain.text_splitter import CharacterTextSplitter\n",
    "    text_splitter = CharacterTextSplitter(chunk_size=chunk_size, chunk_overlap=chunk_overlap,separator='**')\n",
    "    chunks = text_splitter.split_documents(data)\n",
    "    return chunks\n",
    "\n",
    "# create embeddings using OpenAIEmbeddings() and save them in a Chroma vector store\n",
    "def create_embeddings(chunks):\n",
    "\tembeddings = OpenAIEmbeddings()\n",
    "\t#vector_store = Chroma.from_documents(chunks, embeddings)\n",
    "\n",
    "\t# if you want to use a specific directory for chromadb\n",
    "\tvector_store = chromadb.from_documents(chunks, embeddings, persist_directory='./mychroma_db')\n",
    "\tvector_store.persist()\n",
    "\treturn vector_store\n"
   ]
  },
  {
   "cell_type": "code",
   "execution_count": 2,
   "metadata": {},
   "outputs": [
    {
     "name": "stdout",
     "output_type": "stream",
     "text": [
      "[Document(page_content=\"Question:Here are the columns of the dataframe Genre,TotalSales. Create a bar chart to show the total sales for each music genre\\nResponse:\\nimport matplotlib.pyplot as plt\\nfrom matplotlib import rcParams\\n\\n# Set figure size and DPI\\nplt.rcParams['figure.figsize'] = 10,6\\nplt.rcParams['figure.dpi'] = 300\\n\\n# Group by Genre and sum TotalSales\\ngenre_grouped = df.groupby('Genre')['TotalSales'].sum()\\n\\n# Create bar chart\\nplt.bar(genre_grouped.index, genre_grouped.values)\\n\\nplt.xlabel('Genre')\\nplt.ylabel('Total Sales')\\nplt.title('Total Sales per Music Genre')\\n\\n# Save plot as png\\nplt.savefig('plot_image.png')\\n**\\nQuestion:Here are the columns of the dataframe Artist_Name,Total_Sales. Create a pie chart\\nResponse:\\nimport matplotlib.pyplot as plt \\nimport pandas as pd\\n\\nplt.figure(figsize=(10, 6), dpi=300) \\nplt.pie(df['Total_Sales'], labels=df['Artist_Name'],  autopct='%1.1f%%') \\nplt.axis('equal') \\nplt.savefig('plot_image.png')\\n**\\nQuestion:Here are the columns of the dataframe A, B, C, D. Create a scatter plot of the columns A and B\\nResponse:\\nimport pandas as pd\\nimport matplotlib.pyplot as plt\\n\\nplt.rcParams['figure.figsize'] = 10,6\\nplt.rcParams['figure.dpi'] = 300\\n\\ndf = pd.DataFrame({'A':[1,1,1,1,1], 'B':[2,2,2,2,2,]})\\n\\nplt.scatter(x=df['A'], y=df['B'])\\nplt.show()\\n\", metadata={'source': 'Python_code_for_RAG.txt'})]\n"
     ]
    }
   ],
   "source": [
    "from dotenv import load_dotenv, find_dotenv\n",
    "\n",
    "load_dotenv ()\n",
    "\n",
    "file = \"Python_code_for_RAG.txt\"\n",
    "\n",
    "data = load_document(file)\n",
    "print(data)\n"
   ]
  },
  {
   "cell_type": "code",
   "execution_count": 3,
   "metadata": {},
   "outputs": [
    {
     "name": "stderr",
     "output_type": "stream",
     "text": [
      "Created a chunk of size 603, which is longer than the specified 512\n"
     ]
    },
    {
     "data": {
      "text/plain": [
       "[Document(page_content=\"Question:Here are the columns of the dataframe Genre,TotalSales. Create a bar chart to show the total sales for each music genre\\nResponse:\\nimport matplotlib.pyplot as plt\\nfrom matplotlib import rcParams\\n\\n# Set figure size and DPI\\nplt.rcParams['figure.figsize'] = 10,6\\nplt.rcParams['figure.dpi'] = 300\\n\\n# Group by Genre and sum TotalSales\\ngenre_grouped = df.groupby('Genre')['TotalSales'].sum()\\n\\n# Create bar chart\\nplt.bar(genre_grouped.index, genre_grouped.values)\\n\\nplt.xlabel('Genre')\\nplt.ylabel('Total Sales')\\nplt.title('Total Sales per Music Genre')\\n\\n# Save plot as png\\nplt.savefig('plot_image.png')\", metadata={'source': 'Python_code_for_RAG.txt'}),\n",
       " Document(page_content=\"Question:Here are the columns of the dataframe Artist_Name,Total_Sales. Create a pie chart\\nResponse:\\nimport matplotlib.pyplot as plt \\nimport pandas as pd\\n\\nplt.figure(figsize=(10, 6), dpi=300) \\nplt.pie(df['Total_Sales'], labels=df['Artist_Name'],  autopct='%1.1f%%') \\nplt.axis('equal') \\nplt.savefig('plot_image.png')\", metadata={'source': 'Python_code_for_RAG.txt'}),\n",
       " Document(page_content=\"Question:Here are the columns of the dataframe A, B, C, D. Create a scatter plot of the columns A and B\\nResponse:\\nimport pandas as pd\\nimport matplotlib.pyplot as plt\\n\\nplt.rcParams['figure.figsize'] = 10,6\\nplt.rcParams['figure.dpi'] = 300\\n\\ndf = pd.DataFrame({'A':[1,1,1,1,1], 'B':[2,2,2,2,2,]})\\n\\nplt.scatter(x=df['A'], y=df['B'])\\nplt.show()\", metadata={'source': 'Python_code_for_RAG.txt'})]"
      ]
     },
     "execution_count": 3,
     "metadata": {},
     "output_type": "execute_result"
    }
   ],
   "source": [
    "chunks = chunk_data(data)\n",
    "chunks\n"
   ]
  },
  {
   "cell_type": "code",
   "execution_count": 4,
   "metadata": {},
   "outputs": [
    {
     "ename": "AttributeError",
     "evalue": "module 'chromadb' has no attribute 'from_documents'",
     "output_type": "error",
     "traceback": [
      "\u001b[1;31m---------------------------------------------------------------------------\u001b[0m",
      "\u001b[1;31mAttributeError\u001b[0m                            Traceback (most recent call last)",
      "Input \u001b[1;32mIn [4]\u001b[0m, in \u001b[0;36m<cell line: 1>\u001b[1;34m()\u001b[0m\n\u001b[1;32m----> 1\u001b[0m vector_store \u001b[38;5;241m=\u001b[39m \u001b[43mcreate_embeddings\u001b[49m\u001b[43m(\u001b[49m\u001b[43mchunks\u001b[49m\u001b[43m)\u001b[49m\n\u001b[0;32m      3\u001b[0m retriever \u001b[38;5;241m=\u001b[39m vector_store\u001b[38;5;241m.\u001b[39mas_retriever(search_type\u001b[38;5;241m=\u001b[39m\u001b[38;5;124m'\u001b[39m\u001b[38;5;124msimilarity\u001b[39m\u001b[38;5;124m'\u001b[39m,search_kwargs\u001b[38;5;241m=\u001b[39m{\u001b[38;5;124m'\u001b[39m\u001b[38;5;124mk\u001b[39m\u001b[38;5;124m'\u001b[39m: \u001b[38;5;241m2\u001b[39m})\n",
      "Input \u001b[1;32mIn [1]\u001b[0m, in \u001b[0;36mcreate_embeddings\u001b[1;34m(chunks)\u001b[0m\n\u001b[0;32m     30\u001b[0m embeddings \u001b[38;5;241m=\u001b[39m OpenAIEmbeddings()\n\u001b[0;32m     31\u001b[0m \u001b[38;5;66;03m#vector_store = Chroma.from_documents(chunks, embeddings)\u001b[39;00m\n\u001b[0;32m     32\u001b[0m \n\u001b[0;32m     33\u001b[0m \u001b[38;5;66;03m# if you want to use a specific directory for chromadb\u001b[39;00m\n\u001b[1;32m---> 34\u001b[0m vector_store \u001b[38;5;241m=\u001b[39m \u001b[43mchromadb\u001b[49m\u001b[38;5;241;43m.\u001b[39;49m\u001b[43mfrom_documents\u001b[49m(chunks, embeddings, persist_directory\u001b[38;5;241m=\u001b[39m\u001b[38;5;124m'\u001b[39m\u001b[38;5;124m./mychroma_db\u001b[39m\u001b[38;5;124m'\u001b[39m)\n\u001b[0;32m     35\u001b[0m vector_store\u001b[38;5;241m.\u001b[39mpersist()\n\u001b[0;32m     36\u001b[0m \u001b[38;5;28;01mreturn\u001b[39;00m vector_store\n",
      "\u001b[1;31mAttributeError\u001b[0m: module 'chromadb' has no attribute 'from_documents'"
     ]
    }
   ],
   "source": [
    "vector_store = create_embeddings(chunks)\n",
    "\t\n",
    "retriever = vector_store.as_retriever(search_type='similarity',search_kwargs={'k': 2})"
   ]
  },
  {
   "cell_type": "code",
   "execution_count": null,
   "metadata": {},
   "outputs": [],
   "source": [
    "result = retriever.get_relevant_documents(\"Question:Here are the columns of the dataframe Genre,TotalSales.Create a bar chart\")\n",
    "print(result[0].page_content)\n"
   ]
  },
  {
   "cell_type": "code",
   "execution_count": null,
   "metadata": {},
   "outputs": [],
   "source": [
    "my_db  = Chroma(persist_directory='./mychroma_db', embedding_function=OpenAIEmbeddings())\n",
    "my_retriever = my_db.as_retriever(search_type='similarity',search_kwargs={'k': 2})\n",
    "result = my_retriever.get_relevant_documents(\"Question:Here are the columns of the dataframe Genre,TotalSales.Create a bar chart\")\n",
    "print(result[0].page_content)\n"
   ]
  },
  {
   "cell_type": "markdown",
   "metadata": {},
   "source": [
    "### Chroma DB"
   ]
  },
  {
   "cell_type": "code",
   "execution_count": 2,
   "metadata": {},
   "outputs": [],
   "source": [
    "import chromadb"
   ]
  },
  {
   "cell_type": "code",
   "execution_count": 3,
   "metadata": {},
   "outputs": [],
   "source": [
    "client = chromadb.PersistentClient(path=\"./chromadb\")"
   ]
  },
  {
   "cell_type": "code",
   "execution_count": 4,
   "metadata": {},
   "outputs": [],
   "source": [
    "\n",
    "default_collection = client.get_or_create_collection(name=\"default\")"
   ]
  },
  {
   "cell_type": "code",
   "execution_count": 5,
   "metadata": {},
   "outputs": [],
   "source": [
    "with open(\"./Python_code_for_RAG.txt\") as file:\n",
    "    data = file.read()\n",
    "\n",
    "docs = data.split('**')"
   ]
  },
  {
   "cell_type": "code",
   "execution_count": 16,
   "metadata": {},
   "outputs": [],
   "source": [
    "default_collection.upsert(documents = docs,ids=['1','2','3'])"
   ]
  },
  {
   "cell_type": "code",
   "execution_count": 33,
   "metadata": {},
   "outputs": [
    {
     "name": "stdout",
     "output_type": "stream",
     "text": [
      "Question:Here are the columns of the dataframe Genre,TotalSales. Create a bar chart to show the total sales for each music genre\n",
      "Response:\n",
      "import matplotlib.pyplot as plt\n",
      "from matplotlib import rcParams\n",
      "\n",
      "# Set figure size and DPI\n",
      "plt.rcParams['figure.figsize'] = 10,6\n",
      "plt.rcParams['figure.dpi'] = 300\n",
      "\n",
      "# Group by Genre and sum TotalSales\n",
      "genre_grouped = df.groupby('Genre')['TotalSales'].sum()\n",
      "\n",
      "# Create bar chart\n",
      "plt.bar(genre_grouped.index, genre_grouped.values)\n",
      "\n",
      "plt.xlabel('Genre')\n",
      "plt.ylabel('Total Sales')\n",
      "plt.title('Total Sales per Music Genre')\n",
      "\n",
      "# Save plot as png\n",
      "plt.savefig('plot_image.png')\n",
      "\n",
      "\n",
      "Question:Here are the columns of the dataframe Artist_Name,Total_Sales. Create a pie chart\n",
      "Response:\n",
      "import matplotlib.pyplot as plt \n",
      "import pandas as pd\n",
      "\n",
      "plt.figure(figsize=(10, 6), dpi=300) \n",
      "plt.pie(df['Total_Sales'], labels=df['Artist_Name'],  autopct='%1.1f%%') \n",
      "plt.axis('equal') \n",
      "plt.savefig('plot_image.png')\n",
      "\n"
     ]
    }
   ],
   "source": [
    "results = default_collection.query(query_texts=[\"Create\"],n_results=2)\n",
    "# print(results['documents'])\n",
    "# print((results['documents'][0]))\n",
    "# for item in results['documents'][0]:\n",
    "#     print(item)\n",
    "\n",
    "print('\\n'.join(results['documents'][0]))"
   ]
  },
  {
   "cell_type": "code",
   "execution_count": 18,
   "metadata": {},
   "outputs": [
    {
     "data": {
      "text/plain": [
       "3"
      ]
     },
     "execution_count": 18,
     "metadata": {},
     "output_type": "execute_result"
    }
   ],
   "source": [
    "default_collection.count()"
   ]
  },
  {
   "cell_type": "code",
   "execution_count": 15,
   "metadata": {},
   "outputs": [
    {
     "data": {
      "text/plain": [
       "array([[0.00818355, 0.37249333, 0.5773323 , 0.70842125, 0.10713834]])"
      ]
     },
     "execution_count": 15,
     "metadata": {},
     "output_type": "execute_result"
    }
   ],
   "source": [
    "\n",
    "import chromadb\n",
    "\n",
    "def load_document(file): \n",
    "\timport os \n",
    "\tname, extension = os.path.splitext(file) \n",
    "\t \n",
    "\tif extension == '.txt':\n",
    "            \n",
    "\t\n",
    "\telse:\n",
    "\t\tprint('Document format is not supported!')\n",
    "\t\treturn None \n",
    " \n",
    "\tdata = loader.load() \n",
    "\treturn data\n",
    "\n",
    "def chunk_data(data, chunk_size=256, chunk_overlap=20):\n",
    "    from langchain.text_splitter import CharacterTextSplitter\n",
    "    text_splitter = CharacterTextSplitter(chunk_size=chunk_size, chunk_overlap=chunk_overlap,separator='**')\n",
    "    chunks = text_splitter.split_documents(data)\n",
    "    return chunks\n",
    "\n",
    "# create embeddings using OpenAIEmbeddings() and save them in a Chroma vector store\n",
    "def create_embeddings(chunks):\n",
    "    embeddings = OpenAIEmbeddings()\n",
    "    #vector_store = Chroma.from_documents(chunks, embeddings)\n",
    "\n",
    "    # if you want to use a specific directory for chromadb\n",
    "    vector_store = chromadb.from_documents(chunks, embeddings, persist_directory='./mychroma_db')\n",
    "    return vector_store\n",
    "\n",
    "def retrieve_from_chroma():\n",
    "\tclient  = chromadb(persist_directory='./mychroma_db', embedding_function=OpenAIEmbeddings())\n",
    "\tmy_retriever = client.as_retriever(search_type='similarity',search_kwargs={'k': 2})\n",
    "\tresult = my_retriever.get_relevant_documents(\"Question:Here are the columns of the dataframe Genre,TotalSales.Create a bar chart\")\n",
    "\tprint(result[0].page_content)\n",
    "\t\n",
    "def load_file():\n",
    "\t\n",
    "\t\n",
    "if __name__ == \"__main__\":\n",
    "    from dotenv import load_dotenv, find_dotenv\n",
    "\n",
    "    load_dotenv ()\n",
    "\t\n",
    "    file = \"Python_code_for_RAG.txt\"\n",
    "\t\n",
    "    data = load_document(file)\n",
    "    chunks = chunk_data(data)\n",
    "    vector_store = create_embeddings(chunks)\n",
    "\t\n",
    "    retriever = vector_store.as_retriever(search_type='similarity')\n",
    "\t"
   ]
  }
 ],
 "metadata": {
  "kernelspec": {
   "display_name": "Python 3",
   "language": "python",
   "name": "python3"
  },
  "language_info": {
   "codemirror_mode": {
    "name": "ipython",
    "version": 3
   },
   "file_extension": ".py",
   "mimetype": "text/x-python",
   "name": "python",
   "nbconvert_exporter": "python",
   "pygments_lexer": "ipython3",
   "version": "3.10.5"
  }
 },
 "nbformat": 4,
 "nbformat_minor": 2
}
