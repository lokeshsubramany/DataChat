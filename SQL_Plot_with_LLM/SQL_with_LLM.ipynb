{
 "cells": [
  {
   "cell_type": "code",
   "execution_count": null,
   "metadata": {},
   "outputs": [],
   "source": [
    "import sqlite3\n",
    "import pandas as pd\n",
    "\n",
    "conn = sqlite3.connect('Chinook.db')\n",
    "cursor = conn.execute(\"select * from Artist LIMIT 10\")\n",
    "rows = cursor.fetchall()\n",
    "\n",
    "rows"
   ]
  },
  {
   "cell_type": "code",
   "execution_count": null,
   "metadata": {},
   "outputs": [],
   "source": [
    "data = ''\n",
    "with open('Chinook_db_description.txt','r') as file:\n",
    "    data= file.readlines()\n",
    "\n",
    "text = \" \".join(data)\n",
    "print(text)\n"
   ]
  },
  {
   "cell_type": "code",
   "execution_count": null,
   "metadata": {},
   "outputs": [],
   "source": [
    "import openai\n",
    "from openai import OpenAI\n",
    "from dotenv import load_dotenv, dotenv_values \n",
    "from PIL import Image\n",
    "from io import BytesIO\n",
    "import time\n",
    "import pandas as pd\n",
    "import datetime\n",
    "\n",
    "load_dotenv()\n",
    "client = OpenAI()\n"
   ]
  },
  {
   "cell_type": "code",
   "execution_count": null,
   "metadata": {},
   "outputs": [],
   "source": [
    "user_query = \"Create a plot of the total spend of the top 10 users. Use vertical labels for the x axis\"\n",
    "#user_query = \"What is the total spend per user\""
   ]
  },
  {
   "cell_type": "code",
   "execution_count": null,
   "metadata": {},
   "outputs": [],
   "source": [
    "schema_template = \"Here is the schema of a database. \"+text\\\n",
    "    +\"\\n Write a SQL query to answer the following question. Provide only the SQL and nothing else\\n\"\n",
    "user_request = schema_template+user_query\n",
    "print(user_request)"
   ]
  },
  {
   "cell_type": "code",
   "execution_count": null,
   "metadata": {},
   "outputs": [],
   "source": [
    "def llm_request(user_prompt):\n",
    "    completion = client.chat.completions.create(\n",
    "    model=\"gpt-3.5-turbo\",\n",
    "    messages=[\n",
    "        {\"role\": \"system\", \"content\": \"You helpful data analyst.Use only the information provided in the text.\"},\n",
    "        {\"role\": \"user\", \"content\": user_prompt}\n",
    "    ]\n",
    "    )\n",
    "\n",
    "    result = completion.choices[0].message.content\n",
    "    return result\n"
   ]
  },
  {
   "cell_type": "code",
   "execution_count": null,
   "metadata": {},
   "outputs": [],
   "source": [
    "result = llm_request(user_request)\n",
    "my_SQL = result[7:-3]\n",
    "print(my_SQL)\n",
    "\n",
    "df = pd.read_sql(my_SQL,conn)\n",
    "df.head()"
   ]
  },
  {
   "cell_type": "code",
   "execution_count": null,
   "metadata": {},
   "outputs": [],
   "source": [
    "request = \"Here is a sample dataframe\\n \"+ df.head(10).to_string() \\\n",
    "    + \"\\n Provide only Python code to answer the question and nothing else. \"\\\n",
    "    + \"Assume that the data is available in a dataframe df, and use only data from the sample provided. \"\\\n",
    "    + \"Don't include any data in the code. \"\\\n",
    "    + \"Any plots should have a size of 10,5 and a dpi of 300. \\\n",
    "      Use seaborn to generate the plots, if possible. Save the image as a png in the \\\n",
    "        current directory with the name plot_image.png\\\n",
    "        Question: \"\n",
    "request += user_query\n",
    "print(request)\n",
    "\n",
    "import os\n",
    "os.getcwd()"
   ]
  },
  {
   "cell_type": "code",
   "execution_count": null,
   "metadata": {},
   "outputs": [],
   "source": [
    "current_path = os.getcwd()\n",
    "filepath = os.path.join(current_path,\"plot_image.png\")\n",
    "filepath"
   ]
  },
  {
   "cell_type": "code",
   "execution_count": null,
   "metadata": {},
   "outputs": [],
   "source": [
    "result = llm_request(request)\n",
    "#print(result)\n",
    "code = result[10:-3]\n",
    "print(code)"
   ]
  },
  {
   "cell_type": "code",
   "execution_count": null,
   "metadata": {},
   "outputs": [],
   "source": [
    "max_tries = 5\n",
    "tries = 0\n",
    "while tries < max_tries:\n",
    "    try:\n",
    "        exec(code)\n",
    "        break\n",
    "    except Exception as e:\n",
    "        tries +=1\n",
    "        print(e)"
   ]
  },
  {
   "cell_type": "code",
   "execution_count": null,
   "metadata": {},
   "outputs": [],
   "source": [
    "df.columns"
   ]
  },
  {
   "cell_type": "code",
   "execution_count": null,
   "metadata": {},
   "outputs": [],
   "source": [
    "code = \"\"\"\n",
    "import matplotlib.pyplot as plt\n",
    "import seaborn as sns\n",
    "\n",
    "# top_10_users = df.nlargest(10, 'TotalSpend')\n",
    "# plt.figure(figsize=(10, 5), dpi=300)\n",
    "# sns.barplot(y='CustomerId', x='TotalSpend', data=top_10_users)\n",
    "# plt.xlabel('Total Spend')\n",
    "# plt.ylabel('Customer ID')\n",
    "#plt.savefig('plot_image.png')\n",
    "#output = plt.savefig('plot_image.png')\n",
    "output = df\n",
    "# \"\"\""
   ]
  },
  {
   "cell_type": "code",
   "execution_count": null,
   "metadata": {},
   "outputs": [],
   "source": [
    "type(exec(code,{'df':df}))\n",
    "\n"
   ]
  },
  {
   "cell_type": "code",
   "execution_count": 1,
   "metadata": {},
   "outputs": [],
   "source": [
    "from autogen import AssistantAgent"
   ]
  }
 ],
 "metadata": {
  "kernelspec": {
   "display_name": "Python 3",
   "language": "python",
   "name": "python3"
  },
  "language_info": {
   "codemirror_mode": {
    "name": "ipython",
    "version": 3
   },
   "file_extension": ".py",
   "mimetype": "text/x-python",
   "name": "python",
   "nbconvert_exporter": "python",
   "pygments_lexer": "ipython3",
   "version": "3.10.5"
  }
 },
 "nbformat": 4,
 "nbformat_minor": 2
}
