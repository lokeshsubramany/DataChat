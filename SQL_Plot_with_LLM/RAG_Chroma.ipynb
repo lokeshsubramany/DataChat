{
 "cells": [
  {
   "cell_type": "code",
   "execution_count": null,
   "metadata": {},
   "outputs": [],
   "source": [
    "from langchain_openai import OpenAIEmbeddings\n",
    "import chromadb\n",
    "\n",
    "def load_document(file): \n",
    "\timport os \n",
    "\tname, extension = os.path.splitext(file) \n",
    "\t \n",
    "\tif extension == '.pdf':\n",
    "\t\tfrom langchain.document_loaders import PyPDFLoader\n",
    "\t\tprint(f'Loading {file}')\n",
    "\t\tloader = PyPDFLoader(file) \t\n",
    "\telif extension == '.txt':\n",
    "\t\tfrom langchain.document_loaders import TextLoader\n",
    "\t\tloader = TextLoader(file) \n",
    "\telse:\n",
    "\t\tprint('Document format is not supported!')\n",
    "\t\treturn None \n",
    " \n",
    "\tdata = loader.load() \n",
    "\treturn data\n",
    "\n",
    "def chunk_data(data, chunk_size=512, chunk_overlap=0):\n",
    "    from langchain.text_splitter import CharacterTextSplitter\n",
    "    text_splitter = CharacterTextSplitter(chunk_size=chunk_size, chunk_overlap=chunk_overlap,separator='**')\n",
    "    chunks = text_splitter.split_documents(data)\n",
    "    return chunks\n",
    "\n",
    "# create embeddings using OpenAIEmbeddings() and save them in a Chroma vector store\n",
    "def create_embeddings(chunks):\n",
    "\tembeddings = OpenAIEmbeddings()\n",
    "\t#vector_store = Chroma.from_documents(chunks, embeddings)\n",
    "\n",
    "\t# if you want to use a specific directory for chromadb\n",
    "\tvector_store = chromadb.from_documents(chunks, embeddings, persist_directory='./mychroma_db')\n",
    "\tvector_store.persist()\n",
    "\treturn vector_store\n"
   ]
  },
  {
   "cell_type": "code",
   "execution_count": null,
   "metadata": {},
   "outputs": [],
   "source": [
    "from dotenv import load_dotenv, find_dotenv\n",
    "\n",
    "load_dotenv ()\n",
    "\n",
    "file = \"Python_code_for_RAG.txt\"\n",
    "\n",
    "data = load_document(file)\n",
    "print(data)\n"
   ]
  },
  {
   "cell_type": "code",
   "execution_count": null,
   "metadata": {},
   "outputs": [],
   "source": [
    "chunks = chunk_data(data)\n",
    "chunks\n"
   ]
  },
  {
   "cell_type": "code",
   "execution_count": null,
   "metadata": {},
   "outputs": [],
   "source": [
    "vector_store = create_embeddings(chunks)\n",
    "\t\n",
    "retriever = vector_store.as_retriever(search_type='similarity',search_kwargs={'k': 2})"
   ]
  },
  {
   "cell_type": "code",
   "execution_count": null,
   "metadata": {},
   "outputs": [],
   "source": [
    "result = retriever.get_relevant_documents(\"Question:Here are the columns of the dataframe Genre,TotalSales.Create a bar chart\")\n",
    "print(result[0].page_content)\n"
   ]
  },
  {
   "cell_type": "code",
   "execution_count": null,
   "metadata": {},
   "outputs": [],
   "source": [
    "my_db  = Chroma(persist_directory='./mychroma_db', embedding_function=OpenAIEmbeddings())\n",
    "my_retriever = my_db.as_retriever(search_type='similarity',search_kwargs={'k': 2})\n",
    "result = my_retriever.get_relevant_documents(\"Question:Here are the columns of the dataframe Genre,TotalSales.Create a bar chart\")\n",
    "print(result[0].page_content)\n"
   ]
  },
  {
   "cell_type": "markdown",
   "metadata": {},
   "source": [
    "### Chroma DB"
   ]
  },
  {
   "cell_type": "code",
   "execution_count": 2,
   "metadata": {},
   "outputs": [],
   "source": [
    "import chromadb"
   ]
  },
  {
   "cell_type": "code",
   "execution_count": 3,
   "metadata": {},
   "outputs": [],
   "source": [
    "client = chromadb.PersistentClient(path=\"./chromadb\")"
   ]
  },
  {
   "cell_type": "code",
   "execution_count": 4,
   "metadata": {},
   "outputs": [],
   "source": [
    "\n",
    "default_collection = client.get_or_create_collection(name=\"default\")"
   ]
  },
  {
   "cell_type": "code",
   "execution_count": 5,
   "metadata": {},
   "outputs": [],
   "source": [
    "with open(\"./Python_code_for_RAG.txt\") as file:\n",
    "    data = file.read()\n",
    "\n",
    "docs = data.split('**')"
   ]
  },
  {
   "cell_type": "code",
   "execution_count": 16,
   "metadata": {},
   "outputs": [],
   "source": [
    "default_collection.upsert(documents = docs,ids=['1','2','3'])"
   ]
  },
  {
   "cell_type": "code",
   "execution_count": 33,
   "metadata": {},
   "outputs": [
    {
     "name": "stdout",
     "output_type": "stream",
     "text": [
      "Question:Here are the columns of the dataframe Genre,TotalSales. Create a bar chart to show the total sales for each music genre\n",
      "Response:\n",
      "import matplotlib.pyplot as plt\n",
      "from matplotlib import rcParams\n",
      "\n",
      "# Set figure size and DPI\n",
      "plt.rcParams['figure.figsize'] = 10,6\n",
      "plt.rcParams['figure.dpi'] = 300\n",
      "\n",
      "# Group by Genre and sum TotalSales\n",
      "genre_grouped = df.groupby('Genre')['TotalSales'].sum()\n",
      "\n",
      "# Create bar chart\n",
      "plt.bar(genre_grouped.index, genre_grouped.values)\n",
      "\n",
      "plt.xlabel('Genre')\n",
      "plt.ylabel('Total Sales')\n",
      "plt.title('Total Sales per Music Genre')\n",
      "\n",
      "# Save plot as png\n",
      "plt.savefig('plot_image.png')\n",
      "\n",
      "\n",
      "Question:Here are the columns of the dataframe Artist_Name,Total_Sales. Create a pie chart\n",
      "Response:\n",
      "import matplotlib.pyplot as plt \n",
      "import pandas as pd\n",
      "\n",
      "plt.figure(figsize=(10, 6), dpi=300) \n",
      "plt.pie(df['Total_Sales'], labels=df['Artist_Name'],  autopct='%1.1f%%') \n",
      "plt.axis('equal') \n",
      "plt.savefig('plot_image.png')\n",
      "\n"
     ]
    }
   ],
   "source": [
    "results = default_collection.query(query_texts=[\"Create\"],n_results=2)\n",
    "# print(results['documents'])\n",
    "# print((results['documents'][0]))\n",
    "# for item in results['documents'][0]:\n",
    "#     print(item)\n",
    "\n",
    "print('\\n'.join(results['documents'][0]))"
   ]
  },
  {
   "cell_type": "code",
   "execution_count": 18,
   "metadata": {},
   "outputs": [
    {
     "data": {
      "text/plain": [
       "3"
      ]
     },
     "execution_count": 18,
     "metadata": {},
     "output_type": "execute_result"
    }
   ],
   "source": [
    "default_collection.count()"
   ]
  },
  {
   "cell_type": "code",
   "execution_count": 15,
   "metadata": {},
   "outputs": [
    {
     "data": {
      "text/plain": [
       "array([[0.00818355, 0.37249333, 0.5773323 , 0.70842125, 0.10713834]])"
      ]
     },
     "execution_count": 15,
     "metadata": {},
     "output_type": "execute_result"
    }
   ],
   "source": [
    "\n",
    "import chromadb\n",
    "\n",
    "def load_document(file): \n",
    "\timport os \n",
    "\tname, extension = os.path.splitext(file) \n",
    "\t \n",
    "\tif extension == '.txt':\n",
    "            \n",
    "\t\n",
    "\telse:\n",
    "\t\tprint('Document format is not supported!')\n",
    "\t\treturn None \n",
    " \n",
    "\tdata = loader.load() \n",
    "\treturn data\n",
    "\n",
    "def chunk_data(data, chunk_size=256, chunk_overlap=20):\n",
    "    from langchain.text_splitter import CharacterTextSplitter\n",
    "    text_splitter = CharacterTextSplitter(chunk_size=chunk_size, chunk_overlap=chunk_overlap,separator='**')\n",
    "    chunks = text_splitter.split_documents(data)\n",
    "    return chunks\n",
    "\n",
    "# create embeddings using OpenAIEmbeddings() and save them in a Chroma vector store\n",
    "def create_embeddings(chunks):\n",
    "    embeddings = OpenAIEmbeddings()\n",
    "    #vector_store = Chroma.from_documents(chunks, embeddings)\n",
    "\n",
    "    # if you want to use a specific directory for chromadb\n",
    "    vector_store = chromadb.from_documents(chunks, embeddings, persist_directory='./mychroma_db')\n",
    "    return vector_store\n",
    "\n",
    "def retrieve_from_chroma():\n",
    "\tclient  = chromadb(persist_directory='./mychroma_db', embedding_function=OpenAIEmbeddings())\n",
    "\tmy_retriever = client.as_retriever(search_type='similarity',search_kwargs={'k': 2})\n",
    "\tresult = my_retriever.get_relevant_documents(\"Question:Here are the columns of the dataframe Genre,TotalSales.Create a bar chart\")\n",
    "\tprint(result[0].page_content)\n",
    "\t\n",
    "def load_file():\n",
    "\t\n",
    "\t\n",
    "if __name__ == \"__main__\":\n",
    "    from dotenv import load_dotenv, find_dotenv\n",
    "\n",
    "    load_dotenv ()\n",
    "\t\n",
    "    file = \"Python_code_for_RAG.txt\"\n",
    "\t\n",
    "    data = load_document(file)\n",
    "    chunks = chunk_data(data)\n",
    "    vector_store = create_embeddings(chunks)\n",
    "\t\n",
    "    retriever = vector_store.as_retriever(search_type='similarity')\n",
    "\t"
   ]
  }
 ],
 "metadata": {
  "kernelspec": {
   "display_name": "Python 3",
   "language": "python",
   "name": "python3"
  },
  "language_info": {
   "codemirror_mode": {
    "name": "ipython",
    "version": 3
   },
   "file_extension": ".py",
   "mimetype": "text/x-python",
   "name": "python",
   "nbconvert_exporter": "python",
   "pygments_lexer": "ipython3",
   "version": "3.10.5"
  }
 },
 "nbformat": 4,
 "nbformat_minor": 2
}
