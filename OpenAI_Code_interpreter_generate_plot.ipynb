{
 "cells": [
  {
   "cell_type": "code",
   "execution_count": 6,
   "metadata": {},
   "outputs": [],
   "source": [
    "import openai\n",
    "from openai import OpenAI\n",
    "from dotenv import load_dotenv, dotenv_values \n",
    "from PIL import Image\n",
    "from io import BytesIO\n",
    "import time\n",
    "import pandas as pd\n",
    "import datetime"
   ]
  },
  {
   "cell_type": "code",
   "execution_count": null,
   "metadata": {},
   "outputs": [],
   "source": [
    "#To run the streamlit code with upload enabled, run this command in a terminal - streamlit run chat.py --server.enableXsrfProtection false"
   ]
  },
  {
   "cell_type": "code",
   "execution_count": 7,
   "metadata": {},
   "outputs": [],
   "source": [
    "# loading variables from .env file\n",
    "#load_dotenv()"
   ]
  },
  {
   "cell_type": "code",
   "execution_count": 8,
   "metadata": {},
   "outputs": [],
   "source": [
    "client = OpenAI()"
   ]
  },
  {
   "cell_type": "code",
   "execution_count": 9,
   "metadata": {},
   "outputs": [
    {
     "name": "stdout",
     "output_type": "stream",
     "text": [
      "ChatCompletionMessage(content=\"In the realm of code, a concept profound,\\nRecursion reigns, in loops it is bound.\\nA function that calls itself, again and again,\\nIn a cycle of logic, like a mystical refrain.\\n\\nLike a mirror reflecting in endless array,\\nRecursion unwinds, in a recursive display.\\nEach iteration builds upon the last,\\nUntil a base case is met at long last.\\n\\nInfinite loops, a danger it hides,\\nBut with care and precision, it abides.\\nDivide and conquer, its power revealed,\\nIn algorithms and tasks, it's a mighty shield.\\n\\nSo remember this tale of recursion's grand art,\\nIn the world of programming, a crucial part.\\nA dance of function calls, in a mesmerizing direction,\\nRecursion, a concept of endless reflection.\", role='assistant', function_call=None, tool_calls=None)\n"
     ]
    }
   ],
   "source": [
    "# completion = client.chat.completions.create(\n",
    "#   model=\"gpt-3.5-turbo\",\n",
    "#   messages=[\n",
    "#     {\"role\": \"system\", \"content\": \"You are a poetic assistant, skilled in explaining complex programming concepts with creative flair.\"},\n",
    "#     {\"role\": \"user\", \"content\": \"Compose a poem that explains the concept of recursion in programming.\"}\n",
    "#   ]\n",
    "# )\n",
    "\n",
    "# print(completion.choices[0].message)"
   ]
  },
  {
   "cell_type": "code",
   "execution_count": 10,
   "metadata": {},
   "outputs": [],
   "source": [
    "# Upload a file with an \"assistants\" purpose\n",
    "# file = client.files.create(\n",
    "#   file=open(\"iris.csv\", \"rb\"),\n",
    "#   purpose='assistants'\n",
    "# )\n",
    "\n",
    "# file"
   ]
  },
  {
   "cell_type": "code",
   "execution_count": 11,
   "metadata": {},
   "outputs": [
    {
     "data": {
      "text/plain": [
       "FileObject(id='file-saMcVE3As4frIfC5tjoTVOXc', bytes=4009, created_at=1718586944, filename='upload', object='file', purpose='assistants', status='processed', status_details=None)"
      ]
     },
     "execution_count": 11,
     "metadata": {},
     "output_type": "execute_result"
    }
   ],
   "source": [
    "from io import BytesIO  \n",
    "#data = BytesIO(df.to_csv(index=False).encode('utf-8'))\n",
    "\n",
    "file = client.files.create(\n",
    "    file= BytesIO(pd.read_csv('Data/iris.csv').to_csv(index=False).encode('utf-8')),\n",
    "    purpose='assistants'\n",
    ")\n",
    "file"
   ]
  },
  {
   "cell_type": "code",
   "execution_count": 12,
   "metadata": {},
   "outputs": [],
   "source": [
    "# Create an assistant using the file ID\n",
    "assistant = client.beta.assistants.create(\n",
    "  instructions=\"You are a data analyst. When asked question, write and run code to answer the question.\",\n",
    "  model=\"gpt-3.5-turbo\",\n",
    "  tools=[{\"type\": \"code_interpreter\"}],\n",
    "  tool_resources={\n",
    "    \"code_interpreter\": {\n",
    "      \"file_ids\": [file.id]\n",
    "    }\n",
    "  }\n",
    ")\n",
    "\n",
    "thread = client.beta.threads.create(\n",
    "  messages=[\n",
    "    {\n",
    "      \"role\": \"user\",\n",
    "      \"content\": \"Create a correlation plot of the data\",\n",
    "      \"attachments\": [\n",
    "        {\n",
    "          \"file_id\": file.id,\n",
    "          \"tools\": [{\"type\": \"code_interpreter\"}]\n",
    "        }\n",
    "      ]\n",
    "    }\n",
    "  ]\n",
    ")"
   ]
  },
  {
   "cell_type": "code",
   "execution_count": 13,
   "metadata": {},
   "outputs": [],
   "source": [
    "run = client.beta.threads.runs.create(\n",
    "  thread_id=thread.id,\n",
    "  assistant_id=assistant.id\n",
    ")"
   ]
  },
  {
   "cell_type": "code",
   "execution_count": 14,
   "metadata": {},
   "outputs": [
    {
     "name": "stdout",
     "output_type": "stream",
     "text": [
      "Run(id='run_ajcZgmYJDg2cr2zzgdf4JOxk', assistant_id='asst_Kxq0vzdsaYUqf6m1DvXJSUCv', cancelled_at=None, completed_at=None, created_at=1718586946, expires_at=1718587546, failed_at=None, incomplete_details=None, instructions='You are a data analyst. When asked question, write and run code to answer the question.', last_error=None, max_completion_tokens=None, max_prompt_tokens=None, metadata={}, model='gpt-3.5-turbo', object='thread.run', required_action=None, response_format='auto', started_at=None, status='queued', thread_id='thread_9wddyFU0kLQmuh2TxJ8ErDyW', tool_choice='auto', tools=[CodeInterpreterTool(type='code_interpreter')], truncation_strategy=TruncationStrategy(type='auto', last_messages=None), usage=None, temperature=1.0, top_p=1.0, tool_resources={}, parallel_tool_calls=True)\n"
     ]
    }
   ],
   "source": [
    "print(run)"
   ]
  },
  {
   "cell_type": "code",
   "execution_count": 15,
   "metadata": {},
   "outputs": [
    {
     "name": "stdout",
     "output_type": "stream",
     "text": [
      "Current run status: queued\n",
      "Current run status: in_progress\n",
      "Current run status: completed\n"
     ]
    }
   ],
   "source": [
    "while True:\n",
    "        run = client.beta.threads.runs.retrieve(thread_id=thread.id, run_id=run.id)\n",
    "        print(f\"Current run status: {run.status}\")\n",
    "        if run.status == \"completed\":\n",
    "                \"Run complete\"                \n",
    "                break\n",
    "        elif run.status == \"failed\":\n",
    "                print(\"Failed\")\n",
    "                break\n",
    "        \n",
    "        time.sleep(10)"
   ]
  },
  {
   "cell_type": "code",
   "execution_count": 16,
   "metadata": {},
   "outputs": [
    {
     "name": "stdout",
     "output_type": "stream",
     "text": [
      "SyncCursorPage[Message](data=[Message(id='msg_kqTCmuL43evgPLXF35YIjB2p', assistant_id='asst_Kxq0vzdsaYUqf6m1DvXJSUCv', attachments=[], completed_at=None, content=[ImageFileContentBlock(image_file=ImageFile(file_id='file-cV5NvqQdH5AAd1lEh4PQVg9N'), type='image_file'), TextContentBlock(text=Text(annotations=[], value='Here is the correlation plot of the data. The color intensity and the value displayed in each cell represent the degree of correlation between the corresponding pairs of variables:\\n\\n- Values close to 1 indicate a strong positive correlation.\\n- Values close to -1 indicate a strong negative correlation.\\n- Values close to 0 indicate a weak or no correlation.\\n\\nLet me know if you need any further analysis or visualization of the data.'), type='text')], created_at=1718586961, incomplete_at=None, incomplete_details=None, metadata={}, object='thread.message', role='assistant', run_id='run_ajcZgmYJDg2cr2zzgdf4JOxk', status=None, thread_id='thread_9wddyFU0kLQmuh2TxJ8ErDyW'), Message(id='msg_DuPCG4FrBJRtuuqFKia4DvPi', assistant_id='asst_Kxq0vzdsaYUqf6m1DvXJSUCv', attachments=[], completed_at=None, content=[TextContentBlock(text=Text(annotations=[], value=\"The data contains columns: `sepal_length`, `sepal_width`, `petal_length`, `petal_width`, and `species`.\\n\\nNext, let's create a correlation plot based on these numerical columns.\"), type='text')], created_at=1718586951, incomplete_at=None, incomplete_details=None, metadata={}, object='thread.message', role='assistant', run_id='run_ajcZgmYJDg2cr2zzgdf4JOxk', status=None, thread_id='thread_9wddyFU0kLQmuh2TxJ8ErDyW'), Message(id='msg_zR6uYYF7R2eBvDmw48jVTAHH', assistant_id='asst_Kxq0vzdsaYUqf6m1DvXJSUCv', attachments=[], completed_at=None, content=[TextContentBlock(text=Text(annotations=[], value=\"To create a correlation plot of the data, I will first read the uploaded file and then generate a correlation matrix. Finally, I will create a correlation plot based on this matrix. Let's start by loading and exploring the data.\"), type='text')], created_at=1718586946, incomplete_at=None, incomplete_details=None, metadata={}, object='thread.message', role='assistant', run_id='run_ajcZgmYJDg2cr2zzgdf4JOxk', status=None, thread_id='thread_9wddyFU0kLQmuh2TxJ8ErDyW'), Message(id='msg_Q3sIkf4QRpMsOpFFvlvfG0r9', assistant_id=None, attachments=[Attachment(file_id='file-saMcVE3As4frIfC5tjoTVOXc', tools=[CodeInterpreterTool(type='code_interpreter')])], completed_at=None, content=[TextContentBlock(text=Text(annotations=[], value='Create a correlation plot of the data'), type='text')], created_at=1718586945, incomplete_at=None, incomplete_details=None, metadata={}, object='thread.message', role='user', run_id=None, status=None, thread_id='thread_9wddyFU0kLQmuh2TxJ8ErDyW')], object='list', first_id='msg_kqTCmuL43evgPLXF35YIjB2p', last_id='msg_Q3sIkf4QRpMsOpFFvlvfG0r9', has_more=False)\n"
     ]
    }
   ],
   "source": [
    "messages = client.beta.threads.messages.list( thread_id=thread.id)\n",
    "print(messages)"
   ]
  },
  {
   "cell_type": "code",
   "execution_count": 17,
   "metadata": {},
   "outputs": [
    {
     "name": "stdout",
     "output_type": "stream",
     "text": [
      "Message(id='msg_kqTCmuL43evgPLXF35YIjB2p', assistant_id='asst_Kxq0vzdsaYUqf6m1DvXJSUCv', attachments=[], completed_at=None, content=[ImageFileContentBlock(image_file=ImageFile(file_id='file-cV5NvqQdH5AAd1lEh4PQVg9N'), type='image_file'), TextContentBlock(text=Text(annotations=[], value='Here is the correlation plot of the data. The color intensity and the value displayed in each cell represent the degree of correlation between the corresponding pairs of variables:\\n\\n- Values close to 1 indicate a strong positive correlation.\\n- Values close to -1 indicate a strong negative correlation.\\n- Values close to 0 indicate a weak or no correlation.\\n\\nLet me know if you need any further analysis or visualization of the data.'), type='text')], created_at=1718586961, incomplete_at=None, incomplete_details=None, metadata={}, object='thread.message', role='assistant', run_id='run_ajcZgmYJDg2cr2zzgdf4JOxk', status=None, thread_id='thread_9wddyFU0kLQmuh2TxJ8ErDyW')\n",
      "Found image file\n",
      "Message(id='msg_DuPCG4FrBJRtuuqFKia4DvPi', assistant_id='asst_Kxq0vzdsaYUqf6m1DvXJSUCv', attachments=[], completed_at=None, content=[TextContentBlock(text=Text(annotations=[], value=\"The data contains columns: `sepal_length`, `sepal_width`, `petal_length`, `petal_width`, and `species`.\\n\\nNext, let's create a correlation plot based on these numerical columns.\"), type='text')], created_at=1718586951, incomplete_at=None, incomplete_details=None, metadata={}, object='thread.message', role='assistant', run_id='run_ajcZgmYJDg2cr2zzgdf4JOxk', status=None, thread_id='thread_9wddyFU0kLQmuh2TxJ8ErDyW')\n",
      "Message(id='msg_zR6uYYF7R2eBvDmw48jVTAHH', assistant_id='asst_Kxq0vzdsaYUqf6m1DvXJSUCv', attachments=[], completed_at=None, content=[TextContentBlock(text=Text(annotations=[], value=\"To create a correlation plot of the data, I will first read the uploaded file and then generate a correlation matrix. Finally, I will create a correlation plot based on this matrix. Let's start by loading and exploring the data.\"), type='text')], created_at=1718586946, incomplete_at=None, incomplete_details=None, metadata={}, object='thread.message', role='assistant', run_id='run_ajcZgmYJDg2cr2zzgdf4JOxk', status=None, thread_id='thread_9wddyFU0kLQmuh2TxJ8ErDyW')\n",
      "Message(id='msg_Q3sIkf4QRpMsOpFFvlvfG0r9', assistant_id=None, attachments=[Attachment(file_id='file-saMcVE3As4frIfC5tjoTVOXc', tools=[CodeInterpreterTool(type='code_interpreter')])], completed_at=None, content=[TextContentBlock(text=Text(annotations=[], value='Create a correlation plot of the data'), type='text')], created_at=1718586945, incomplete_at=None, incomplete_details=None, metadata={}, object='thread.message', role='user', run_id=None, status=None, thread_id='thread_9wddyFU0kLQmuh2TxJ8ErDyW')\n"
     ]
    }
   ],
   "source": [
    "image_file_id = \"\"\n",
    "other_file_id=\"\"\n",
    "for message in messages:    \n",
    "    print(message)\n",
    "    if isinstance(message.content[0], openai.types.beta.threads.image_file_content_block.ImageFileContentBlock):\n",
    "        image_file_id =  message.content[0].image_file.file_id   \n",
    "        print('Found image file')\n",
    "        #print(\"here\",(message.content[0]).image_file.file_id)\n",
    "    "
   ]
  },
  {
   "cell_type": "code",
   "execution_count": null,
   "metadata": {},
   "outputs": [],
   "source": []
  },
  {
   "cell_type": "code",
   "execution_count": 18,
   "metadata": {},
   "outputs": [],
   "source": [
    "image_data = client.files.content(image_file_id)\n",
    "image_data_bytes = image_data.read()\n",
    "\n",
    "im = Image.open(BytesIO(image_data_bytes))\n",
    "im.show()\n",
    "#im.show()\n",
    "\n",
    "# with open(\"./my-image\"+datetime.datetime.now().strftime('%Y_%m_%d_%H_%M_%S')+\".png\", \"wb\") as file:\n",
    "#     file.write(image_data_bytes)"
   ]
  },
  {
   "cell_type": "code",
   "execution_count": null,
   "metadata": {},
   "outputs": [],
   "source": [
    "im = Image.open('my-image2024_06_16_12_11_29.png')\n",
    "im.show()"
   ]
  },
  {
   "cell_type": "code",
   "execution_count": null,
   "metadata": {},
   "outputs": [],
   "source": [
    "run_steps = client.beta.threads.runs.steps.list(\n",
    "  thread_id=thread.id,\n",
    "  run_id=run.id\n",
    ")\n",
    "for item in run_steps:\n",
    "    print(item)"
   ]
  },
  {
   "cell_type": "code",
   "execution_count": null,
   "metadata": {},
   "outputs": [],
   "source": [
    "def save_files_from_thread(thread_id): \n",
    "    messages = client.beta.threads.messages.list( thread_id=thread.id) \n",
    "    for message in messages: \n",
    "        annotations = message.content[0].text.annotations \n",
    "        if annotations: \n",
    "            for annotation in annotations: \n",
    "                print(annotation.type)\n",
    "                if annotation.type == 'file_path': \n",
    "                    file_id = annotation.file_path.file_id \n",
    "                    # file_data = openai.File.retrieve(file_id) \n",
    "                    # with open(f\"downloaded_files/{file_id}.txt\", \"wb\") as file: \n",
    "                    #     file.write(file_data.content) \n",
    "                    #     print(f\"File {file_id} saved successfully.\")\n",
    "\n",
    "save_files_from_thread(thread.id)"
   ]
  }
 ],
 "metadata": {
  "kernelspec": {
   "display_name": "Python 3",
   "language": "python",
   "name": "python3"
  },
  "language_info": {
   "codemirror_mode": {
    "name": "ipython",
    "version": 3
   },
   "file_extension": ".py",
   "mimetype": "text/x-python",
   "name": "python",
   "nbconvert_exporter": "python",
   "pygments_lexer": "ipython3",
   "version": "3.10.5"
  }
 },
 "nbformat": 4,
 "nbformat_minor": 2
}
